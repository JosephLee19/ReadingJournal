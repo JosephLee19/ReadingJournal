{
 "cells": [
  {
   "cell_type": "markdown",
   "metadata": {},
   "source": [
    "# Day 11 Reading Journal\n",
    "\n",
    "This journal includes several required exercises, but it is meant to encourage active reading more generally.  You should use the journal to take detailed notes, catalog questions, and explore the content from Think Python deeply.\n",
    "\n",
    "Reading: Review Think Python Chapters 15-17\n",
    "\n",
    "**Due: Monday, February 29 at 12 noon**\n",
    "\n"
   ]
  },
  {
   "cell_type": "markdown",
   "metadata": {},
   "source": [
    "## [Chapter 15](http://www.greenteapress.com/thinkpython/html/thinkpython016.html), [Chapter 16](http://www.greenteapress.com/thinkpython/html/thinkpython017.html), [Chapter 17](http://www.greenteapress.com/thinkpython/html/thinkpython018.html)\n",
    "\n",
    "\n",
    "By the end of chapter 17, we have all the tools we need to create our own user-defined types known as classes. In this reading journal, we're asking you to review and solidify your understanding of this material so we can build on it for the rest of the course. \n",
    "\n",
    "If you didn't get a chance to fully complete the Day 10 reading journal, you may want to do so now."
   ]
  },
  {
   "cell_type": "markdown",
   "metadata": {
    "problem": "Terminology"
   },
   "source": [
    "### Terminology\n",
    "\n",
    "You should be familiar with the following list of terms and concepts. If any of them are unclear to you, re-read, ask, write a definition in your own words, and try an example if appropriate.\n",
    "\n",
    " - class\n",
    " - object\n",
    " - instance\n",
    " - attribute\n",
    " - method\n",
    " - shallow vs deep copying\n",
    " - pure functions vs modifiers\n",
    " - initializing object instances\n",
    " "
   ]
  },
  {
   "cell_type": "markdown",
   "metadata": {
    "is_question": true,
    "problem": "Exercise 1"
   },
   "source": [
    "### Exercise\n",
    "\n",
    "We're going to take the first steps toward writing a calendar application. To keep things simple, we'll restrict ourselves to a single day for now. Write an `Event` class with the following attributes:\n",
    "\n",
    " - `name`  : Title for the `Event`\n",
    " - `start` : `Time` object representing the start time for the `Event`\n",
    " - `end`   : `Time` object representing the end time for the `Event`\n",
    "\n",
    "You can also augment your `Event` class with additional attributes, such as location and attendees.\n",
    "\n",
    "Write `__init__` and `__str__` methods for your `Event` class."
   ]
  },
  {
   "cell_type": "code",
   "execution_count": 43,
   "metadata": {
    "collapsed": true,
    "solution": "Exercise 1"
   },
   "outputs": [],
   "source": [
    "class Time(object):\n",
    "    \"\"\"\n",
    "    Represents the time of day.\n",
    "\n",
    "    attributes: hour, minute, second\n",
    "    \"\"\"\n",
    "\n",
    "    def __init__(self, hour=0, minute=0, second=0):\n",
    "        self.hour = hour\n",
    "        self.minute = minute\n",
    "        self.second = second\n",
    "\n",
    "    def __str__(self):\n",
    "        time_string = \"{:02}:{:02}:{:02}\".format(self.hour, self.minute, self.second)\n",
    "        return time_string\n",
    "    def is_after(self,other):\n",
    "        if self.hour>other.hour:\n",
    "            return True\n",
    "        elif self.minute>other.minute:\n",
    "            return True\n",
    "        elif self.second>other.second:\n",
    "            return True\n",
    "        else:\n",
    "            return False\n",
    "\n",
    "class Event(object):\n",
    "    def __init__(self,name='enter the name of the event',start=Time(),end=Time()):\n",
    "        self.name=name\n",
    "        self.start=start\n",
    "        self.end=end\n",
    "        \n",
    "    def __str__(self):\n",
    "        return \"{} starting at {} and going until {}\".format(self.name,self.start,self.end)"
   ]
  },
  {
   "cell_type": "code",
   "execution_count": 44,
   "metadata": {
    "collapsed": false
   },
   "outputs": [
    {
     "name": "stdout",
     "output_type": "stream",
     "text": [
      "testing123 starting at 04:02:01 and going until 05:04:05\n"
     ]
    }
   ],
   "source": [
    "event=Event('testing123',Time(4,2,1),Time(5,4,5))\n",
    "print event"
   ]
  },
  {
   "cell_type": "markdown",
   "metadata": {
    "is_question": true,
    "problem": "Exercise 2"
   },
   "source": [
    "### Exercise\n",
    "\n",
    "Write a `duration` method that returns the duration of the `Event` in minutes."
   ]
  },
  {
   "cell_type": "code",
   "execution_count": 45,
   "metadata": {
    "collapsed": true,
    "solution": "Exercise 2"
   },
   "outputs": [],
   "source": [
    "class Event(object):\n",
    "    def __init__(self,name='enter the name of the event',start=Time(),end=Time()):\n",
    "        self.name=name\n",
    "        self.start=start\n",
    "        self.end=end\n",
    "        \n",
    "    def __str__(self):\n",
    "        return \"{} starting at {} and going until {}\".format(self.name,self.start,self.end)\n",
    "    \n",
    "    def duration(self):\n",
    "        duration=Time(self.end.hour-self.start.hour,self.end.minute-self.start.minute,self.end.second-self.start.second)\n",
    "        return duration"
   ]
  },
  {
   "cell_type": "code",
   "execution_count": 46,
   "metadata": {
    "collapsed": false
   },
   "outputs": [
    {
     "name": "stdout",
     "output_type": "stream",
     "text": [
      "01:02:04\n"
     ]
    }
   ],
   "source": [
    "event=Event('testing123',Time(4,2,1),Time(5,4,5))\n",
    "print event.duration()"
   ]
  },
  {
   "cell_type": "markdown",
   "metadata": {
    "is_question": true,
    "problem": "Exercise 3"
   },
   "source": [
    "### Exercise\n",
    "\n",
    "Write an `Agenda` class that contains several `Event`s for the day.\n",
    "\n",
    "**Quick check: ** How should you store `Event`s within your `Agenda` class?\n",
    "\n",
    "Your `Agenda` class should include a `print_agenda` method that prints out your schedule for the day, in order.\n",
    "\n",
    "**Optional:** Include a `is_feasible` method that returns `True` if your schedule has no time conflicts. You may want to write additional helper methods for the `Event` class to make this easier."
   ]
  },
  {
   "cell_type": "code",
   "execution_count": 100,
   "metadata": {
    "collapsed": false,
    "solution": "Exercise 3"
   },
   "outputs": [],
   "source": [
    "class Agenda(Event):\n",
    "    def __init__(self,*events):# the *events allows the user to input any number of events\n",
    "        for event_number, event in enumerate(events):#     this line iterates through the events that were passed in\n",
    "            setattr(self,'event'+str(event_number),event)# this line sets the attributes of self for each event\n",
    "    def __str__(self):\n",
    "        pass\n",
    "    \n",
    "    def print_agenda(self):\n",
    "        import copy\n",
    "        dictionary_self=self.__dict__\n",
    "        event_list=[]\n",
    "        for element in dictionary_self.values():\n",
    "            event_start_time=element.start\n",
    "            event_end_time=element.end\n",
    "            event_start_time_seconds=(element.start.hour*3600) + (element.start.minute*60) + (element.start.second)\n",
    "            event_list.append([event_start_time_seconds,event_start_time,event_end_time,element.name])\n",
    "        event_list=sorted(event_list,key=lambda event_list:event_list[0])\n",
    "        for event in event_list:\n",
    "            print \"{} starting at {} and going until {}\".format(event[3],event[1],event[2])"
   ]
  },
  {
   "cell_type": "code",
   "execution_count": 101,
   "metadata": {
    "collapsed": false
   },
   "outputs": [
    {
     "name": "stdout",
     "output_type": "stream",
     "text": [
      "event1 starting at 01:02:03 and going until 02:03:04\n",
      "event2 starting at 02:03:04 and going until 03:04:05\n",
      "event3 starting at 04:05:06 and going until 05:06:07\n",
      "event4 starting at 05:02:03 and going until 06:03:04\n",
      "event5 starting at 06:03:04 and going until 07:04:05\n",
      "event6 starting at 07:05:06 and going until 08:06:07\n",
      "event7 starting at 08:02:03 and going until 09:03:04\n",
      "event8 starting at 09:03:04 and going until 10:04:05\n",
      "event9 starting at 10:05:06 and going until 11:06:07\n"
     ]
    }
   ],
   "source": [
    "event1=Event('event1',Time(1,2,3),Time(2,3,4))\n",
    "event2=Event('event2',Time(2,3,4),Time(3,4,5))\n",
    "event3=Event('event3',Time(4,5,6),Time(5,6,7))\n",
    "event4=Event('event4',Time(5,2,3),Time(6,3,4))\n",
    "event5=Event('event5',Time(6,3,4),Time(7,4,5))\n",
    "event6=Event('event6',Time(7,5,6),Time(8,6,7))\n",
    "event7=Event('event7',Time(8,2,3),Time(9,3,4))\n",
    "event8=Event('event8',Time(9,3,4),Time(10,4,5))\n",
    "event9=Event('event9',Time(10,5,6),Time(11,6,7))\n",
    "agenda=Agenda(event1,event2,event3,event4,event5,event6,event7,event8,event9)\n",
    "agenda.print_agenda()"
   ]
  },
  {
   "cell_type": "markdown",
   "metadata": {
    "is_question": true,
    "problem": "Exercise 4"
   },
   "source": [
    "### Going Beyond (optional)\n",
    "\n",
    "Some ideas for taking your application further:\n",
    " - Add people and/or places to the mix to create a scheduling assistant\n",
    " - Extend support for day-of-week or full date. A word of warning: dealing with dates and times in real applications is difficult due to the huge number of special cases (Perfect example: this reading journal is due on Leap Day). Consider using something like the Python [datetime](https://docs.python.org/2/library/datetime.html) module.\n",
    " - Use pickle or some other persistence strategy to save and load your `Agenda`."
   ]
  },
  {
   "cell_type": "code",
   "execution_count": null,
   "metadata": {
    "collapsed": true,
    "solution": "Exercise 4"
   },
   "outputs": [],
   "source": []
  },
  {
   "cell_type": "markdown",
   "metadata": {
    "is_poll": true,
    "is_question": true,
    "problem": "Time spent"
   },
   "source": [
    "## Quick poll\n",
    "About how long did you spend working on this Reading Journal?"
   ]
  },
  {
   "cell_type": "markdown",
   "metadata": {
    "poll_response": true,
    "solution": "Time spent"
   },
   "source": [
    "about 3 hours "
   ]
  },
  {
   "cell_type": "markdown",
   "metadata": {
    "is_question": true,
    "problem": "Feedback"
   },
   "source": [
    "## Reading Journal feedback\n",
    "\n",
    "Have any comments on this Reading Journal? Feel free to leave them below and we'll read them when you submit your journal entry. This could include suggestions to improve the exercises, topics you'd like to see covered in class next time, or other feedback.\n",
    "\n",
    "If you have Python questions or run into problems while completing the reading, you should post them to Piazza instead so you can get a quick response before your journal is submitted."
   ]
  },
  {
   "cell_type": "markdown",
   "metadata": {
    "feedback_response": true,
    "solution": "Feedback"
   },
   "source": [
    " "
   ]
  }
 ],
 "metadata": {
  "celltoolbar": "Edit Metadata",
  "kernelspec": {
   "display_name": "Python 2",
   "language": "python",
   "name": "python2"
  },
  "language_info": {
   "codemirror_mode": {
    "name": "ipython",
    "version": 2
   },
   "file_extension": ".py",
   "mimetype": "text/x-python",
   "name": "python",
   "nbconvert_exporter": "python",
   "pygments_lexer": "ipython2",
   "version": "2.7.6"
  }
 },
 "nbformat": 4,
 "nbformat_minor": 0
}
